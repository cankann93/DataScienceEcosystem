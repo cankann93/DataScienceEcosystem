{
 "cells": [
  {
   "cell_type": "markdown",
   "id": "b4c85417-0b22-4f11-8747-b586e62f5e95",
   "metadata": {},
   "source": [
    "# Data Science Tools and Ecosystem"
   ]
  },
  {
   "cell_type": "markdown",
   "id": "2f23d986-d88d-408e-a4ab-65d83f125028",
   "metadata": {},
   "source": [
    "In this notebook, Data Science Tools and Ecosystem are summarized."
   ]
  },
  {
   "cell_type": "markdown",
   "id": "e8924ac6-db5c-4db9-b2b7-66b78d1ef10a",
   "metadata": {},
   "source": [
    "Objectives:\n",
    "\n",
    "* List popular languages for Data Science\n",
    "* List popular libraries for Data Science\n",
    "* List popular tools for Data Science"
   ]
  },
  {
   "cell_type": "markdown",
   "id": "e3a43320-3756-441c-891b-e5784a53fc4f",
   "metadata": {},
   "source": [
    "Some of the popular languages that Data Scientists use are:\n",
    "\n",
    "1. Python\n",
    "2. R\n",
    "3. Julia\n",
    "4. Matlab"
   ]
  },
  {
   "cell_type": "markdown",
   "id": "2038bf3f-8dfd-41ec-b4cb-7c5cdecd411c",
   "metadata": {},
   "source": [
    "Some of the commonly used libraries used by Data Scientists include:\n",
    "\n",
    "1. pandas\n",
    "2. numpy\n",
    "3. matplotlib\n",
    "4. scikitlearn"
   ]
  },
  {
   "cell_type": "markdown",
   "id": "f489bb94-6699-4835-b749-dc7b653bb56d",
   "metadata": {},
   "source": [
    "|Data Science Tools|\n",
    "| - |\n",
    "|Visual Studio Code|\n",
    "|Gitlab|\n",
    "|R studio|\n"
   ]
  },
  {
   "cell_type": "markdown",
   "id": "90dc1d86-666f-4945-bea7-899fafb24ebc",
   "metadata": {},
   "source": [
    "### Below are a few examples of evaluating arithmetic expressions in Python"
   ]
  },
  {
   "cell_type": "code",
   "execution_count": 12,
   "id": "52e6cdef-c180-4889-95a4-9a13b9c1b853",
   "metadata": {},
   "outputs": [
    {
     "data": {
      "text/plain": [
       "17"
      ]
     },
     "execution_count": 12,
     "metadata": {},
     "output_type": "execute_result"
    }
   ],
   "source": [
    "# This is a simple arithmetic expression to mutiply then add integers\n",
    "(3*4)+5"
   ]
  },
  {
   "cell_type": "code",
   "execution_count": 14,
   "id": "fdc849e9-3d6d-4f6c-9d4b-87e3be011b19",
   "metadata": {},
   "outputs": [
    {
     "data": {
      "text/plain": [
       "3.3333333333333335"
      ]
     },
     "execution_count": 14,
     "metadata": {},
     "output_type": "execute_result"
    }
   ],
   "source": [
    "# This will convert 200 minutes to hours by dividing by 60\n",
    "200/60"
   ]
  },
  {
   "cell_type": "markdown",
   "id": "8be4fcad-cbc2-4d98-8b29-19368390ff6b",
   "metadata": {},
   "source": [
    "## Author\n",
    "Can Yilanci"
   ]
  },
  {
   "cell_type": "code",
   "execution_count": null,
   "id": "b1b7d861-47da-4291-96b8-fc5834a6db12",
   "metadata": {},
   "outputs": [],
   "source": []
  }
 ],
 "metadata": {
  "kernelspec": {
   "display_name": "Python 3 (ipykernel)",
   "language": "python",
   "name": "python3"
  },
  "language_info": {
   "codemirror_mode": {
    "name": "ipython",
    "version": 3
   },
   "file_extension": ".py",
   "mimetype": "text/x-python",
   "name": "python",
   "nbconvert_exporter": "python",
   "pygments_lexer": "ipython3",
   "version": "3.12.4"
  }
 },
 "nbformat": 4,
 "nbformat_minor": 5
}
